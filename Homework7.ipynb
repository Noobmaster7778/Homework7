{
 "cells": [
  {
   "cell_type": "markdown",
   "metadata": {},
   "source": [
    "## Homework #7\n",
    "\n",
    "Due Nov 11th\n"
   ]
  },
  {
   "cell_type": "markdown",
   "metadata": {},
   "source": [
    "# Problem 1.  Kalman Filtering\n",
    "\n",
    "Define a python class object to preform Kalman tracking of a moving object\n",
    "\n",
    "using the following state equations:\n",
    "\n",
    "Position\n",
    "* pos_x(k+1) = pos_x(k) + vel_x(k)*dt +v\n",
    "* pos_y(k+1) = pos_y(k) + vel_y(k)*dt +v\n",
    "\n",
    "velocity\n",
    "* vel_x(k+1) = vel_x(k) + acc_x(k)*dt +v\n",
    "* vel_y(k+1) = vel_y(k) + acc_y(k)*dt +v\n",
    "\n",
    "acceleration\n",
    "* acc_x(k+1) = acc_x(k) + Ux(k) +v \n",
    "* acc_y(k+1) = acc_y(k) + Uy(k) +v\n",
    "\n",
    "observation equations\n",
    "* meas_x(k+1) = pos_x(k+1)+e\n",
    "* meas_y(k+1) = pos_y(k+1)+e\n",
    "\n",
    "note, velocity and acceleration are not observed\n",
    "\n",
    "Let e and v be random normal variables\n",
    "\n",
    "## A  \n",
    "Write code to simulate the forward model.  E.g. given an initial starting position,velocity, and acceleration, and the input vector U, simulate the measurement of the position (Y)\n",
    "\n",
    "## B\n",
    "Write the code for the kalman tracker.  E.g. given the measurement vector (Y; from part 1), estimate the underlying true position, velocity, and acceleration.\n",
    "\n"
   ]
  },
  {
   "cell_type": "markdown",
   "metadata": {},
   "source": [
    "# Problem 2.\n",
    "\n",
    "## A.\n",
    "Open CV has both the CAMShift and MeanShift functions for tracking, however, I want you to code your own simple version of the MeanShift function from scratch.  Given a video (you can use your webcam), define a ROI circle.  For each frame of the video, compute the center-of-mass of a gray-scale image in a circle around the previous center-of-mass.  Track the center of mass across frames\n",
    "\n",
    "## B.\n",
    "Implement a demo using the openCV versions (cv2.MeanShift and cv2.CAMshift)\n",
    "\n",
    "\n"
   ]
  },
  {
   "cell_type": "markdown",
   "metadata": {},
   "source": [
    "# Problem 3. \n",
    "Implement a Haar cascade detector for finding faces in a video feed. Include two detectors for the frontal and profile views of a face.\n",
    "\n",
    "Pretrained haar models can be found at:\n",
    "https://github.com/opencv/opencv/tree/master/data/haarcascades"
   ]
  },
  {
   "cell_type": "markdown",
   "metadata": {},
   "source": [
    "# Problem 4 [ECE 2690 students]\n",
    "Using the openCV tools for annotating images and training Haar models as shown in class, build a simple Haar classifier model to recognize the Catherdral of Learning.  \n",
    "\n",
    "Instructions can be found at:\n",
    "https://github.com/bilardi/how-to-train-cascade\n",
    "\n",
    "* Download from the internet or take about 30 pictures of Cathy as your positives (this is not really enough for a proper model, but it should be ok to demo the concept)\n",
    "\n",
    "* Download from the internet or take about 15 pictures for your negatives.  Landscapes (obviously without Cathy in the picture) would work best\n",
    "\n",
    "\n",
    "\n",
    "\n"
   ]
  },
  {
   "cell_type": "markdown",
   "metadata": {},
   "source": []
  }
 ],
 "metadata": {
  "language_info": {
   "name": "python"
  }
 },
 "nbformat": 4,
 "nbformat_minor": 2
}
